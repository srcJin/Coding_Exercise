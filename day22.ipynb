{
 "cells": [
  {
   "cell_type": "markdown",
   "id": "a411861f",
   "metadata": {},
   "source": [
    "# 回溯算法理论基础\n"
   ]
  },
  {
   "cell_type": "markdown",
   "id": "183d04b7",
   "metadata": {},
   "source": [
    "回溯是递归的副产品，只要有递归就会有回溯。\n",
    "回溯法并不是什么高效的算法, 因为回溯的本质是穷举."
   ]
  },
  {
   "cell_type": "markdown",
   "id": "4c80ee63",
   "metadata": {},
   "source": [
    "## 第77题. 组合\n",
    "\n",
    "给定两个整数 n 和 k，返回 1 ... n 中所有可能的 k 个数的组合。\n",
    "\n",
    "示例: 输入: n = 4, k = 2 输出: [ [2,4], [3,4], [2,3], [1,2], [1,3], [1,4], ]\n",
    "\n"
   ]
  }
 ],
 "metadata": {
  "language_info": {
   "name": "python"
  }
 },
 "nbformat": 4,
 "nbformat_minor": 5
}

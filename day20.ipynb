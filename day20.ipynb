{
 "cells": [
  {
   "cell_type": "markdown",
   "id": "32994cc8",
   "metadata": {},
   "source": [
    "二叉搜索树的最近公共祖先"
   ]
  },
  {
   "cell_type": "markdown",
   "id": "e968da68",
   "metadata": {},
   "source": [
    "二叉搜索树中的插入操作"
   ]
  },
  {
   "cell_type": "markdown",
   "id": "57eb3509",
   "metadata": {},
   "source": [
    "删除二叉搜索树中的节点"
   ]
  },
  {
   "cell_type": "markdown",
   "id": "f46383c2",
   "metadata": {},
   "source": [
    "修剪二叉搜索树"
   ]
  },
  {
   "cell_type": "markdown",
   "id": "f1bf5996",
   "metadata": {},
   "source": [
    "将有序数组转换为二叉搜索树"
   ]
  },
  {
   "cell_type": "markdown",
   "id": "adf242a9",
   "metadata": {},
   "source": [
    "把二叉搜索树转换为累加树"
   ]
  }
 ],
 "metadata": {
  "language_info": {
   "name": "python"
  }
 },
 "nbformat": 4,
 "nbformat_minor": 5
}
